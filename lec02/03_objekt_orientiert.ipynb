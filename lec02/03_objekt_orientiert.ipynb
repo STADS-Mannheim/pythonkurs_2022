{
 "cells": [
  {
   "cell_type": "markdown",
   "source": [
    "# kurzer Einblick in die Objekt orientierte Programmierung\n",
    "\n",
    "## OOP sinnvoll für:\n",
    "* Erstellen von Frameworks und tools\n",
    "* wartungsfreundlich und wiederverwendbar\n",
    "* Code als Interaktion von Objekten im Gegensatz zu Sequenz von Anweisungen\n",
    "\\\n",
    "alles in Python ist ein Objekt und jedes Objekt besitzt eine Klasse (class) die wir mit type abfragen können"
   ],
   "metadata": {}
  },
  {
   "cell_type": "code",
   "execution_count": null,
   "source": [
    "type(5)"
   ],
   "outputs": [],
   "metadata": {}
  },
  {
   "cell_type": "code",
   "execution_count": null,
   "source": [
    "help(5)"
   ],
   "outputs": [],
   "metadata": {}
  },
  {
   "cell_type": "markdown",
   "source": [
    "Objekte  | Klasse\n",
    "------------- | -------------\n",
    "5  | int\n",
    "6.7 | float\n",
    "'Hallo Welt' | str"
   ],
   "metadata": {}
  },
  {
   "cell_type": "markdown",
   "source": [
    "Jede Klasse ist ein Bauplan für deren Objekte, sie gibt mögliche Zustände (Attribute) und Aktionen (Methoden) vor"
   ],
   "metadata": {}
  },
  {
   "cell_type": "code",
   "execution_count": null,
   "source": [
    "neue_liste= [1, 2, 3, 'Baum']\n",
    "neue_liste.append('Stamm')\n",
    "print(neue_liste)"
   ],
   "outputs": [],
   "metadata": {}
  },
  {
   "cell_type": "code",
   "execution_count": null,
   "source": [
    "dir(neue_liste)  # liste alle Attribute und Methoden für ein Objekt einer Klasse auf"
   ],
   "outputs": [],
   "metadata": {}
  },
  {
   "cell_type": "markdown",
   "source": [
    "* attribute sind Eigenschaften eines Objektes aus einer Klasse. Sie sollten beim erstellen der Klasse definiert werden\n",
    "* Methoden sind Funktionen innerhalb einer Klasse "
   ],
   "metadata": {}
  },
  {
   "cell_type": "code",
   "execution_count": null,
   "source": [
    "# Aufbau einer Python class\n",
    "\n",
    "class Auto:\n",
    "    def __init__(self, modell):     # __init__ constructor, diese Methode wird immer aufgerufen sobald ein Objekt erstellt wird\n",
    "        self.modell=modell          # self ist ein Platzhalter für ein bestimmtes Objekt, der während der class - Definition verwendet wird.\n",
    "        print('Die __init__ Methode wurde aufgerufen')\n",
    "    "
   ],
   "outputs": [],
   "metadata": {}
  },
  {
   "cell_type": "code",
   "execution_count": null,
   "source": [
    "erstes_auto = Auto('Fiat')  #an dieser Stelle wird __init__ aufgerufen\n",
    "print(erstes_auto.modell)"
   ],
   "outputs": [],
   "metadata": {}
  },
  {
   "cell_type": "code",
   "execution_count": null,
   "source": [
    "import os\n",
    "class Auto:\n",
    "    max_tempo=240\n",
    "    min_tempo=0      # class Attribute werden außerhalb von init definiert (z.B. globale Konstanten für alle Instanzen einer Klasse)\n",
    "    def __init__(self, modell, entf_zum_ziel, tempo=100, sound='hup, '): \n",
    "        self.modell=modell \n",
    "        self.dist = entf_zum_ziel\n",
    "        self.tempo=tempo\n",
    "        self.sound= sound         \n",
    "    \n",
    "    def hupen(self,anzahl):\n",
    "        out = self.sound*anzahl\n",
    "        os.system('say {}'.format(out))\n",
    "        print(out)\n",
    "    def berechne_zeit(self, ausgabe=True):\n",
    "        zeit= self.dist / self.tempo  # t = s/v\n",
    "        if ausgabe:\n",
    "            print('die Geschätzte Reisedauer beträgt {} Stunden'.format(zeit))\n",
    "        return zeit"
   ],
   "outputs": [],
   "metadata": {}
  },
  {
   "cell_type": "code",
   "execution_count": null,
   "source": [
    "zweites_auto = Auto('Golf', 200)"
   ],
   "outputs": [],
   "metadata": {}
  },
  {
   "cell_type": "code",
   "execution_count": null,
   "source": [
    "zweites_auto.berechne_zeit()\n",
    "zweites_auto.hupen(3)"
   ],
   "outputs": [],
   "metadata": {}
  },
  {
   "cell_type": "markdown",
   "source": [
    "## Vererbung"
   ],
   "metadata": {}
  },
  {
   "cell_type": "code",
   "execution_count": null,
   "source": [
    "class Sportwagen(Auto):\n",
    "\n",
    "    def gib_gas(self, delta=30):\n",
    "        self.tempo += delta\n",
    "        print('Die neue Reisedauer beträgt: {} Stunden'.format(self.berechne_zeit(False)))"
   ],
   "outputs": [],
   "metadata": {}
  },
  {
   "cell_type": "code",
   "execution_count": null,
   "source": [
    "drittes_auto = Sportwagen('Ferrari', 200)\n",
    "drittes_auto.berechne_zeit()"
   ],
   "outputs": [],
   "metadata": {}
  },
  {
   "cell_type": "code",
   "execution_count": null,
   "source": [
    "drittes_auto.gib_gas(50)"
   ],
   "outputs": [],
   "metadata": {}
  },
  {
   "cell_type": "code",
   "execution_count": null,
   "source": [
    "print(isinstance(5, int))\n",
    "print(isinstance(drittes_auto, Sportwagen))\n",
    "print(isinstance(drittes_auto, Auto))\n",
    "print(isinstance(erstes_auto, Sportwagen))  #leider nicht:("
   ],
   "outputs": [],
   "metadata": {}
  },
  {
   "cell_type": "code",
   "execution_count": null,
   "source": [],
   "outputs": [],
   "metadata": {}
  }
 ],
 "metadata": {
  "orig_nbformat": 4,
  "language_info": {
   "name": "python",
   "version": "3.8.5",
   "mimetype": "text/x-python",
   "codemirror_mode": {
    "name": "ipython",
    "version": 3
   },
   "pygments_lexer": "ipython3",
   "nbconvert_exporter": "python",
   "file_extension": ".py"
  },
  "kernelspec": {
   "name": "python3",
   "display_name": "Python 3.8.5 64-bit ('env': venv)"
  },
  "interpreter": {
   "hash": "11bcb1078d596e3875f82ed8b19dbaa2715cf9242cf75c099db29e63ff0edc99"
  }
 },
 "nbformat": 4,
 "nbformat_minor": 2
}